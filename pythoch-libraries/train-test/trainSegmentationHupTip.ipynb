{
 "cells": [
  {
   "cell_type": "code",
   "execution_count": 1,
   "id": "00dbb904",
   "metadata": {},
   "outputs": [
    {
     "name": "stderr",
     "output_type": "stream",
     "text": [
      "C:\\Users\\bajajp\\AppData\\Local\\anaconda3\\envs\\Xmen\\lib\\site-packages\\torchvision\\datapoints\\__init__.py:12: UserWarning: The torchvision.datapoints and torchvision.transforms.v2 namespaces are still Beta. While we do not expect major breaking changes, some APIs may still change according to user feedback. Please submit any feedback you may have in this issue: https://github.com/pytorch/vision/issues/6753, and you can also check out https://github.com/pytorch/vision/issues/7319 to learn more about the APIs that we suspect might involve future changes. You can silence this warning by calling torchvision.disable_beta_transforms_warning().\n",
      "  warnings.warn(_BETA_TRANSFORMS_WARNING)\n",
      "C:\\Users\\bajajp\\AppData\\Local\\anaconda3\\envs\\Xmen\\lib\\site-packages\\torchvision\\transforms\\v2\\__init__.py:54: UserWarning: The torchvision.datapoints and torchvision.transforms.v2 namespaces are still Beta. While we do not expect major breaking changes, some APIs may still change according to user feedback. Please submit any feedback you may have in this issue: https://github.com/pytorch/vision/issues/6753, and you can also check out https://github.com/pytorch/vision/issues/7319 to learn more about the APIs that we suspect might involve future changes. You can silence this warning by calling torchvision.disable_beta_transforms_warning().\n",
      "  warnings.warn(_BETA_TRANSFORMS_WARNING)\n"
     ]
    }
   ],
   "source": [
    "import torch \n",
    "import torch.nn as nn\n",
    "import time \n",
    "from time import sleep\n",
    "import datetime\n",
    "import os \n",
    "import numpy as np \n",
    "import torch.optim as optim\n",
    "import matplotlib.pyplot as plt \n",
    "from torch.utils.data import DataLoader \n",
    "from sklearn.model_selection import train_test_split\n",
    "import pandas as pd\n",
    "import TrainHelper as th\n",
    "import CustomModels as cm\n",
    "import CustomImageDataset as cid\n",
    "import LossFunction as lf \n",
    "import sys\n",
    "import glob\n",
    "sys.path.append(os.path.join('..','segment-utils'))\n",
    "import VideoAnnotationHelper as vah\n",
    "\n",
    "device = (\"cuda\" if torch.cuda.is_available() else \"cpu\")"
   ]
  },
  {
   "cell_type": "code",
   "execution_count": 2,
   "id": "31b50ee6",
   "metadata": {},
   "outputs": [],
   "source": [
    "# If you are training finetune \n",
    "fineTune = False  \n",
    "model_path = \"//cgmqnap.clearguide.local/data/Needles/Lumena/models/shaft_segmentation/model_cyc_3_ep_200_bs_32_lr_0.001_20240108_T165341.pt\"\n",
    "\n",
    "transferLearning = True   \n",
    "transfer_model_path = \"//cgmqnap.clearguide.local/data/Needles/Lumena/models/shaft_segmentation/model_cyc_3_ep_200_bs_128_lr_0.001_20240124_T140745.pt\"\n",
    "\n",
    "batch_size = 128\n",
    "epochs = 200\n",
    "cycles = 3\n",
    "\n",
    "encoder_lr = 1e-3\n",
    "decoder_lr = 1e-3\n",
    "\n",
    "lossFun1 = lf.IoULoss()\n",
    "lossFun2 = lf.IoULoss()\n",
    "\n",
    "parent_dir = \"C:/Lumena/\"\n",
    "train_data_folder = \"train_data\"\n",
    "\n",
    "img_dir = [\"images_cropped_256x256\"]\n",
    "mask_dir = [\"masks_cropped_256x256\"]\n",
    "mask_hubdir = [\"masks_hub_cropped_256x256\"]\n",
    "\n",
    "observe_path=\"D:/test_dir\""
   ]
  },
  {
   "cell_type": "code",
   "execution_count": 3,
   "id": "093c51cc",
   "metadata": {},
   "outputs": [],
   "source": [
    "sub_folders = [\"EL/temp/\", \"PC_2/temp/\", \"PR/temp/\", \"EL_2/temp/\", \"CNMC/temp/\", \"CNMC_2/temp/\", \"SS/temp/\", \"Bob/temp/\",\"PB/temp/\", \"PF/temp/\"]\n",
    "\n",
    "images_path = []\n",
    "labels = []\n",
    "                \n",
    "for k in range(len(sub_folders)):\n",
    "    img1 = glob.glob(parent_dir + \"/\" + train_data_folder + \"/\" + sub_folders[k] + img_dir[0] + \"/*.png\")\n",
    "    lab1 = glob.glob(parent_dir + \"/\" + train_data_folder + \"/\" + sub_folders[k] + mask_dir[0] + \"/*.png\")\n",
    "    lab2 = glob.glob(parent_dir + \"/\" + train_data_folder + \"/\" + sub_folders[k] + mask_hubdir[0] + \"/*.png\")\n",
    "    \n",
    "    for s in range(len(lab1)):\n",
    "        labels.append([lab1[s], lab2[s]])\n",
    "        images_path.append(img1[s])\n",
    "    \n",
    "\n",
    "X_train, X_val, y_train, y_val = train_test_split(images_path, labels, test_size = 0.2)\n",
    "\n",
    "\n",
    "\n",
    "train_dataset = cid.CustomImageGray_2MaskDataset_dataAugmentation(X_train, y_train, ifgray = False, ifTrain = True)\n",
    "val_dataset = cid.CustomImageGray_2MaskDataset_dataAugmentation(X_val, y_val, ifgray = False, ifTrain = True)\n",
    "\n",
    "train_loader = torch.utils.data.DataLoader(train_dataset, batch_size = batch_size, shuffle = True,num_workers=4,pin_memory = True)\n",
    "val_loader = torch.utils.data.DataLoader(val_dataset, batch_size = batch_size, shuffle = False,num_workers=4,pin_memory = True)"
   ]
  },
  {
   "cell_type": "code",
   "execution_count": 4,
   "id": "735c0c9e",
   "metadata": {},
   "outputs": [],
   "source": [
    "if fineTune: \n",
    "    print(\"Model loaded for finetune\")\n",
    "    model = torch.jit.load(model_path)\n",
    "else: \n",
    "    model = cm.NeedleSegmentationModel_1().to(device)"
   ]
  },
  {
   "cell_type": "code",
   "execution_count": 5,
   "id": "4504e875",
   "metadata": {},
   "outputs": [],
   "source": [
    "if transferLearning: \n",
    "    print(\"Old model weights transfered\")\n",
    "    old_model = torch.jit.load(transfer_model_path)\n",
    "    model.load_state_dict(old_model.state_dict(), strict=False)"
   ]
  },
  {
   "cell_type": "code",
   "execution_count": 6,
   "id": "4f66a716",
   "metadata": {},
   "outputs": [
    {
     "name": "stdout",
     "output_type": "stream",
     "text": [
      "NO. 0 conv1.0.conv_block.0.conv_block.0.weight\n",
      "NO. 1 conv1.0.conv_block.0.conv_block.0.bias\n",
      "NO. 2 conv1.0.conv_block.0.conv_block.1.weight\n",
      "NO. 3 conv1.0.conv_block.0.conv_block.1.bias\n",
      "NO. 4 conv1.1.residual_layer.0.weight\n",
      "NO. 5 conv1.1.residual_layer.0.bias\n",
      "NO. 6 conv1.1.residual_layer.1.weight\n",
      "NO. 7 conv1.1.residual_layer.1.bias\n",
      "NO. 8 conv2.0.conv_block.0.conv_block.0.weight\n",
      "NO. 9 conv2.0.conv_block.0.conv_block.0.bias\n",
      "NO. 10 conv2.0.conv_block.0.conv_block.1.weight\n",
      "NO. 11 conv2.0.conv_block.0.conv_block.1.bias\n",
      "NO. 12 conv2.1.residual_layer.0.weight\n",
      "NO. 13 conv2.1.residual_layer.0.bias\n",
      "NO. 14 conv2.1.residual_layer.1.weight\n",
      "NO. 15 conv2.1.residual_layer.1.bias\n",
      "NO. 16 conv3.0.layer.0.group1.conv_block.0.weight\n",
      "NO. 17 conv3.0.layer.0.group1.conv_block.0.bias\n",
      "NO. 18 conv3.0.layer.0.group1.conv_block.1.weight\n",
      "NO. 19 conv3.0.layer.0.group1.conv_block.1.bias\n",
      "NO. 20 conv3.0.layer.0.group2.0.conv_block.0.conv_block.0.weight\n",
      "NO. 21 conv3.0.layer.0.group2.0.conv_block.0.conv_block.0.bias\n",
      "NO. 22 conv3.0.layer.0.group2.0.conv_block.0.conv_block.1.weight\n",
      "NO. 23 conv3.0.layer.0.group2.0.conv_block.0.conv_block.1.bias\n",
      "NO. 24 conv3.0.layer.0.group2.1.conv_block.0.weight\n",
      "NO. 25 conv3.0.layer.0.group2.1.conv_block.0.bias\n",
      "NO. 26 conv3.0.layer.0.group2.1.conv_block.1.weight\n",
      "NO. 27 conv3.0.layer.0.group2.1.conv_block.1.bias\n",
      "NO. 28 conv3.0.layer.0.group3.0.conv_block.0.conv_block.0.weight\n",
      "NO. 29 conv3.0.layer.0.group3.0.conv_block.0.conv_block.0.bias\n",
      "NO. 30 conv3.0.layer.0.group3.0.conv_block.0.conv_block.1.weight\n",
      "NO. 31 conv3.0.layer.0.group3.0.conv_block.0.conv_block.1.bias\n",
      "NO. 32 conv3.0.layer.0.group3.1.conv_block.0.weight\n",
      "NO. 33 conv3.0.layer.0.group3.1.conv_block.0.bias\n",
      "NO. 34 conv3.0.layer.0.group3.1.conv_block.1.weight\n",
      "NO. 35 conv3.0.layer.0.group3.1.conv_block.1.bias\n",
      "NO. 36 conv3.0.layer.0.group4.0.conv_block.0.conv_block.0.weight\n",
      "NO. 37 conv3.0.layer.0.group4.0.conv_block.0.conv_block.0.bias\n",
      "NO. 38 conv3.0.layer.0.group4.0.conv_block.0.conv_block.1.weight\n",
      "NO. 39 conv3.0.layer.0.group4.0.conv_block.0.conv_block.1.bias\n",
      "NO. 40 conv3.0.layer.0.group4.1.conv_block.0.weight\n",
      "NO. 41 conv3.0.layer.0.group4.1.conv_block.0.bias\n",
      "NO. 42 conv3.0.layer.0.group4.1.conv_block.1.weight\n",
      "NO. 43 conv3.0.layer.0.group4.1.conv_block.1.bias\n",
      "NO. 44 conv3.1.residual_layer.0.weight\n",
      "NO. 45 conv3.1.residual_layer.0.bias\n",
      "NO. 46 conv3.1.residual_layer.1.weight\n",
      "NO. 47 conv3.1.residual_layer.1.bias\n",
      "NO. 48 conv4.0.layer.0.group1.conv_block.0.weight\n",
      "NO. 49 conv4.0.layer.0.group1.conv_block.0.bias\n",
      "NO. 50 conv4.0.layer.0.group1.conv_block.1.weight\n",
      "NO. 51 conv4.0.layer.0.group1.conv_block.1.bias\n",
      "NO. 52 conv4.0.layer.0.group2.0.conv_block.0.conv_block.0.weight\n",
      "NO. 53 conv4.0.layer.0.group2.0.conv_block.0.conv_block.0.bias\n",
      "NO. 54 conv4.0.layer.0.group2.0.conv_block.0.conv_block.1.weight\n",
      "NO. 55 conv4.0.layer.0.group2.0.conv_block.0.conv_block.1.bias\n",
      "NO. 56 conv4.0.layer.0.group2.1.conv_block.0.weight\n",
      "NO. 57 conv4.0.layer.0.group2.1.conv_block.0.bias\n",
      "NO. 58 conv4.0.layer.0.group2.1.conv_block.1.weight\n",
      "NO. 59 conv4.0.layer.0.group2.1.conv_block.1.bias\n",
      "NO. 60 conv4.0.layer.0.group3.0.conv_block.0.conv_block.0.weight\n",
      "NO. 61 conv4.0.layer.0.group3.0.conv_block.0.conv_block.0.bias\n",
      "NO. 62 conv4.0.layer.0.group3.0.conv_block.0.conv_block.1.weight\n",
      "NO. 63 conv4.0.layer.0.group3.0.conv_block.0.conv_block.1.bias\n",
      "NO. 64 conv4.0.layer.0.group3.1.conv_block.0.weight\n",
      "NO. 65 conv4.0.layer.0.group3.1.conv_block.0.bias\n",
      "NO. 66 conv4.0.layer.0.group3.1.conv_block.1.weight\n",
      "NO. 67 conv4.0.layer.0.group3.1.conv_block.1.bias\n",
      "NO. 68 conv4.0.layer.0.group4.0.conv_block.0.conv_block.0.weight\n",
      "NO. 69 conv4.0.layer.0.group4.0.conv_block.0.conv_block.0.bias\n",
      "NO. 70 conv4.0.layer.0.group4.0.conv_block.0.conv_block.1.weight\n",
      "NO. 71 conv4.0.layer.0.group4.0.conv_block.0.conv_block.1.bias\n",
      "NO. 72 conv4.0.layer.0.group4.1.conv_block.0.weight\n",
      "NO. 73 conv4.0.layer.0.group4.1.conv_block.0.bias\n",
      "NO. 74 conv4.0.layer.0.group4.1.conv_block.1.weight\n",
      "NO. 75 conv4.0.layer.0.group4.1.conv_block.1.bias\n",
      "NO. 76 conv4.1.residual_layer.0.weight\n",
      "NO. 77 conv4.1.residual_layer.0.bias\n",
      "NO. 78 conv4.1.residual_layer.1.weight\n",
      "NO. 79 conv4.1.residual_layer.1.bias\n",
      "NO. 80 conv5.0.weight\n",
      "NO. 81 conv5.0.bias\n",
      "NO. 82 conv5_hub.0.weight\n",
      "NO. 83 conv5_hub.0.bias\n",
      "NO. 84 t_conv1.0.tconv_block.0.tconv_block.0.weight\n",
      "NO. 85 t_conv1.0.tconv_block.0.tconv_block.0.bias\n",
      "NO. 86 t_conv1.0.tconv_block.0.tconv_block.1.weight\n",
      "NO. 87 t_conv1.0.tconv_block.0.tconv_block.1.bias\n",
      "NO. 88 t_conv2.0.tconv_block.0.weight\n",
      "NO. 89 t_conv2.0.tconv_block.0.bias\n",
      "NO. 90 t_conv2.0.tconv_block.1.weight\n",
      "NO. 91 t_conv2.0.tconv_block.1.bias\n",
      "NO. 92 t_conv3.0.tconv_block.0.weight\n",
      "NO. 93 t_conv3.0.tconv_block.0.bias\n",
      "NO. 94 t_conv3.0.tconv_block.1.weight\n",
      "NO. 95 t_conv3.0.tconv_block.1.bias\n",
      "NO. 96 t_conv4.0.tconv_block.0.weight\n",
      "NO. 97 t_conv4.0.tconv_block.0.bias\n",
      "NO. 98 t_conv4.0.tconv_block.1.weight\n",
      "NO. 99 t_conv4.0.tconv_block.1.bias\n",
      "NO. 100 jmp_conn3.weight\n",
      "NO. 101 jmp_conn3.bias\n",
      "NO. 102 jmp_conn4.weight\n",
      "NO. 103 jmp_conn4.bias\n",
      "NO. 104 jmp_conn5.weight\n",
      "NO. 105 jmp_conn5.bias\n",
      "NO. 106 t_conv1_hub.0.tconv_block.0.tconv_block.0.weight\n",
      "NO. 107 t_conv1_hub.0.tconv_block.0.tconv_block.0.bias\n",
      "NO. 108 t_conv1_hub.0.tconv_block.0.tconv_block.1.weight\n",
      "NO. 109 t_conv1_hub.0.tconv_block.0.tconv_block.1.bias\n",
      "NO. 110 t_conv2_hub.0.tconv_block.0.weight\n",
      "NO. 111 t_conv2_hub.0.tconv_block.0.bias\n",
      "NO. 112 t_conv2_hub.0.tconv_block.1.weight\n",
      "NO. 113 t_conv2_hub.0.tconv_block.1.bias\n",
      "NO. 114 t_conv3_hub.0.tconv_block.0.weight\n",
      "NO. 115 t_conv3_hub.0.tconv_block.0.bias\n",
      "NO. 116 t_conv3_hub.0.tconv_block.1.weight\n",
      "NO. 117 t_conv3_hub.0.tconv_block.1.bias\n",
      "NO. 118 t_conv4_hub.0.tconv_block.0.weight\n",
      "NO. 119 t_conv4_hub.0.tconv_block.0.bias\n",
      "NO. 120 t_conv4_hub.0.tconv_block.1.weight\n",
      "NO. 121 t_conv4_hub.0.tconv_block.1.bias\n",
      "NO. 122 jmp_conn3_hub.weight\n",
      "NO. 123 jmp_conn3_hub.bias\n",
      "NO. 124 jmp_conn4_hub.weight\n",
      "NO. 125 jmp_conn4_hub.bias\n",
      "NO. 126 jmp_conn5_hub.weight\n",
      "NO. 127 jmp_conn5_hub.bias\n"
     ]
    }
   ],
   "source": [
    "i = 0\n",
    "for name, param in model.named_parameters():\n",
    "    if param.requires_grad == True:\n",
    "        print(\"NO.\", i, name)\n",
    "        i += 1"
   ]
  },
  {
   "cell_type": "code",
   "execution_count": 7,
   "id": "b70a1cf8",
   "metadata": {},
   "outputs": [
    {
     "name": "stdout",
     "output_type": "stream",
     "text": [
      "Created folder 'D:/test_dir/model_cyc_3_ep_200_bs_128_lr_0.001_20240124_T121955'.\n"
     ]
    }
   ],
   "source": [
    "model_name = \"model\" \n",
    "model_name += \"_cyc_\" + str(cycles) + \"_ep_\" + str(epochs) + \"_bs_\" + str(batch_size)\n",
    "model_name += \"_lr_\" + str(encoder_lr)\n",
    "model_folder = model_name +  \"_{:%Y%m%d_T%H%M%S}\".format(datetime.datetime.now())\n",
    "\n",
    "vah.createFolder(observe_path + \"/\"  + model_folder)"
   ]
  },
  {
   "cell_type": "code",
   "execution_count": 8,
   "id": "7bd4ee2f",
   "metadata": {},
   "outputs": [],
   "source": [
    "# encoder_lr = 1e-4\n",
    "# decoder_lr = 1e-4 "
   ]
  },
  {
   "cell_type": "code",
   "execution_count": 9,
   "id": "ade70c79",
   "metadata": {},
   "outputs": [
    {
     "data": {
      "text/plain": [
       "0.001"
      ]
     },
     "execution_count": 9,
     "metadata": {},
     "output_type": "execute_result"
    }
   ],
   "source": [
    "encoder_lr"
   ]
  },
  {
   "cell_type": "code",
   "execution_count": 10,
   "id": "ce2519ba",
   "metadata": {},
   "outputs": [
    {
     "name": "stdout",
     "output_type": "stream",
     "text": [
      "Training Cycle:  1\n",
      "Epoch: 0  \tTraining Loss: 0.980146 \t Vali Loss: 0.983363 \t Exe Time: 22.123578sec\n",
      "Temprary model saved:  model_cyc_3_ep_200_bs_128_lr_0.001_20240124_T122047.pt\n",
      "Epoch: 1  \tTraining Loss: 0.974337 \t Vali Loss: 0.982962 \t Exe Time: 19.592619sec\n",
      "Epoch: 2  \tTraining Loss: 0.972423 \t Vali Loss: 0.980430 \t Exe Time: 19.231071sec\n",
      "Epoch: 3  \tTraining Loss: 0.968510 \t Vali Loss: 0.978697 \t Exe Time: 19.120666sec\n",
      "Epoch: 4  \tTraining Loss: 0.962724 \t Vali Loss: 0.978727 \t Exe Time: 19.389660sec\n",
      "Epoch: 5  \tTraining Loss: 0.950344 \t Vali Loss: 0.978498 \t Exe Time: 19.409689sec\n",
      "Epoch: 6  \tTraining Loss: 0.931180 \t Vali Loss: 0.977695 \t Exe Time: 19.666623sec\n",
      "Epoch: 7  \tTraining Loss: 0.916681 \t Vali Loss: 0.969330 \t Exe Time: 19.317417sec\n",
      "Epoch: 8  \tTraining Loss: 0.904695 \t Vali Loss: 0.968206 \t Exe Time: 19.416898sec\n",
      "Epoch: 9  \tTraining Loss: 0.902958 \t Vali Loss: 0.931860 \t Exe Time: 19.193556sec\n",
      "Epoch: 10  \tTraining Loss: 0.887999 \t Vali Loss: 0.947283 \t Exe Time: 19.469187sec\n",
      "Temprary model saved:  model_cyc_3_ep_200_bs_128_lr_0.001_20240124_T122402.pt\n",
      "Epoch: 11  \tTraining Loss: 0.879310 \t Vali Loss: 0.920613 \t Exe Time: 19.805194sec\n",
      "Epoch: 12  \tTraining Loss: 0.873152 \t Vali Loss: 0.907123 \t Exe Time: 19.382910sec\n",
      "Epoch: 13  \tTraining Loss: 0.853671 \t Vali Loss: 0.891775 \t Exe Time: 19.298276sec\n",
      "Epoch: 14  \tTraining Loss: 0.851927 \t Vali Loss: 0.883088 \t Exe Time: 19.292470sec\n",
      "Epoch: 15  \tTraining Loss: 0.831901 \t Vali Loss: 0.869934 \t Exe Time: 19.277389sec\n",
      "Epoch: 16  \tTraining Loss: 0.830486 \t Vali Loss: 0.891318 \t Exe Time: 19.523710sec\n",
      "Epoch: 17  \tTraining Loss: 0.815968 \t Vali Loss: 0.854023 \t Exe Time: 19.253185sec\n",
      "Epoch: 18  \tTraining Loss: 0.799964 \t Vali Loss: 0.900860 \t Exe Time: 19.702992sec\n",
      "Epoch: 19  \tTraining Loss: 0.781927 \t Vali Loss: 0.779235 \t Exe Time: 19.322749sec\n",
      "Epoch: 20  \tTraining Loss: 0.753404 \t Vali Loss: 0.832014 \t Exe Time: 19.383718sec\n",
      "Temprary model saved:  model_cyc_3_ep_200_bs_128_lr_0.001_20240124_T122716.pt\n",
      "Epoch: 21  \tTraining Loss: 0.733795 \t Vali Loss: 0.745187 \t Exe Time: 19.873023sec\n",
      "Epoch: 22  \tTraining Loss: 0.709138 \t Vali Loss: 0.862149 \t Exe Time: 19.697746sec\n",
      "Epoch: 23  \tTraining Loss: 0.710269 \t Vali Loss: 0.786554 \t Exe Time: 19.440466sec\n",
      "Epoch: 24  \tTraining Loss: 0.699928 \t Vali Loss: 0.754115 \t Exe Time: 19.488117sec\n",
      "Epoch: 25  \tTraining Loss: 0.680577 \t Vali Loss: 0.780732 \t Exe Time: 19.333564sec\n",
      "Epoch: 26  \tTraining Loss: 0.675708 \t Vali Loss: 0.738711 \t Exe Time: 19.844019sec\n",
      "Epoch: 27  \tTraining Loss: 0.647871 \t Vali Loss: 0.686555 \t Exe Time: 19.575226sec\n",
      "Epoch: 28  \tTraining Loss: 0.625226 \t Vali Loss: 0.737651 \t Exe Time: 20.334241sec\n",
      "Epoch: 29  \tTraining Loss: 0.620393 \t Vali Loss: 0.781322 \t Exe Time: 19.860912sec\n",
      "Epoch: 30  \tTraining Loss: 0.626240 \t Vali Loss: 0.728343 \t Exe Time: 20.261978sec\n",
      "Temprary model saved:  model_cyc_3_ep_200_bs_128_lr_0.001_20240124_T123035.pt\n",
      "Epoch: 31  \tTraining Loss: 0.600863 \t Vali Loss: 0.667440 \t Exe Time: 20.334341sec\n",
      "Epoch: 32  \tTraining Loss: 0.591094 \t Vali Loss: 0.659416 \t Exe Time: 22.608277sec\n",
      "Epoch: 33  \tTraining Loss: 0.601479 \t Vali Loss: 0.679987 \t Exe Time: 22.498909sec\n",
      "Epoch: 34  \tTraining Loss: 0.585577 \t Vali Loss: 0.697461 \t Exe Time: 22.996632sec\n",
      "Epoch: 35  \tTraining Loss: 0.584544 \t Vali Loss: 0.647464 \t Exe Time: 21.408484sec\n",
      "Epoch: 36  \tTraining Loss: 0.567864 \t Vali Loss: 0.601107 \t Exe Time: 23.401038sec\n",
      "Epoch: 37  \tTraining Loss: 0.561155 \t Vali Loss: 0.667087 \t Exe Time: 22.197822sec\n",
      "Epoch: 38  \tTraining Loss: 0.578733 \t Vali Loss: 0.640988 \t Exe Time: 22.012996sec\n",
      "Epoch: 39  \tTraining Loss: 0.563064 \t Vali Loss: 0.625760 \t Exe Time: 22.467984sec\n",
      "Epoch: 40  \tTraining Loss: 0.536970 \t Vali Loss: 0.702104 \t Exe Time: 22.904563sec\n",
      "Temprary model saved:  model_cyc_3_ep_200_bs_128_lr_0.001_20240124_T123418.pt\n",
      "Epoch: 41  \tTraining Loss: 0.555704 \t Vali Loss: 0.649532 \t Exe Time: 23.611495sec\n",
      "Epoch: 42  \tTraining Loss: 0.544201 \t Vali Loss: 0.590579 \t Exe Time: 23.030511sec\n",
      "Epoch: 43  \tTraining Loss: 0.542036 \t Vali Loss: 0.601555 \t Exe Time: 23.401965sec\n",
      "Epoch: 44  \tTraining Loss: 0.521516 \t Vali Loss: 0.615187 \t Exe Time: 20.870631sec\n",
      "Epoch: 45  \tTraining Loss: 0.535867 \t Vali Loss: 0.627866 \t Exe Time: 22.971070sec\n",
      "Epoch: 46  \tTraining Loss: 0.522828 \t Vali Loss: 0.596945 \t Exe Time: 22.651105sec\n",
      "Epoch: 47  \tTraining Loss: 0.534154 \t Vali Loss: 0.631354 \t Exe Time: 21.288687sec\n",
      "Epoch: 48  \tTraining Loss: 0.535153 \t Vali Loss: 0.593785 \t Exe Time: 21.404708sec\n",
      "Epoch: 49  \tTraining Loss: 0.524138 \t Vali Loss: 0.615870 \t Exe Time: 21.296575sec\n",
      "Epoch: 50  \tTraining Loss: 0.517866 \t Vali Loss: 0.590206 \t Exe Time: 21.505060sec\n",
      "Temprary model saved:  model_cyc_3_ep_200_bs_128_lr_0.001_20240124_T123800.pt\n",
      "Epoch: 51  \tTraining Loss: 0.527088 \t Vali Loss: 0.620004 \t Exe Time: 22.964934sec\n",
      "Epoch: 52  \tTraining Loss: 0.515449 \t Vali Loss: 0.573216 \t Exe Time: 21.281572sec\n",
      "Epoch: 53  \tTraining Loss: 0.508827 \t Vali Loss: 0.609381 \t Exe Time: 21.665118sec\n",
      "Epoch: 54  \tTraining Loss: 0.505633 \t Vali Loss: 0.577321 \t Exe Time: 21.323281sec\n",
      "Epoch: 55  \tTraining Loss: 0.503899 \t Vali Loss: 0.601370 \t Exe Time: 24.047957sec\n",
      "Epoch: 56  \tTraining Loss: 0.494543 \t Vali Loss: 0.618482 \t Exe Time: 22.532143sec\n",
      "Epoch: 57  \tTraining Loss: 0.495040 \t Vali Loss: 0.610587 \t Exe Time: 21.439069sec\n",
      "Epoch: 58  \tTraining Loss: 0.516976 \t Vali Loss: 0.560555 \t Exe Time: 22.251099sec\n",
      "Epoch: 59  \tTraining Loss: 0.508755 \t Vali Loss: 0.564161 \t Exe Time: 24.030430sec\n",
      "Epoch: 60  \tTraining Loss: 0.507144 \t Vali Loss: 0.623709 \t Exe Time: 22.256468sec\n",
      "Temprary model saved:  model_cyc_3_ep_200_bs_128_lr_0.001_20240124_T124145.pt\n",
      "Epoch: 61  \tTraining Loss: 0.489814 \t Vali Loss: 0.588365 \t Exe Time: 22.054191sec\n",
      "Epoch: 62  \tTraining Loss: 0.497097 \t Vali Loss: 0.621836 \t Exe Time: 25.284690sec\n",
      "Epoch: 63  \tTraining Loss: 0.501605 \t Vali Loss: 0.610624 \t Exe Time: 23.015138sec\n",
      "Epoch: 64  \tTraining Loss: 0.510257 \t Vali Loss: 0.577225 \t Exe Time: 22.048921sec\n",
      "Epoch: 65  \tTraining Loss: 0.495942 \t Vali Loss: 0.536938 \t Exe Time: 22.591833sec\n",
      "Epoch: 66  \tTraining Loss: 0.497066 \t Vali Loss: 0.580817 \t Exe Time: 21.463029sec\n",
      "Epoch: 67  \tTraining Loss: 0.485574 \t Vali Loss: 0.621874 \t Exe Time: 23.905761sec\n",
      "Epoch: 68  \tTraining Loss: 0.490981 \t Vali Loss: 0.528806 \t Exe Time: 26.041273sec\n",
      "Epoch: 69  \tTraining Loss: 0.478055 \t Vali Loss: 0.576879 \t Exe Time: 25.692459sec\n",
      "Epoch: 70  \tTraining Loss: 0.487627 \t Vali Loss: 0.540137 \t Exe Time: 23.156917sec\n",
      "Temprary model saved:  model_cyc_3_ep_200_bs_128_lr_0.001_20240124_T124541.pt\n",
      "Epoch: 71  \tTraining Loss: 0.476081 \t Vali Loss: 0.600303 \t Exe Time: 25.639276sec\n",
      "Epoch: 72  \tTraining Loss: 0.476270 \t Vali Loss: 0.551662 \t Exe Time: 23.862701sec\n",
      "Epoch: 73  \tTraining Loss: 0.484989 \t Vali Loss: 0.537606 \t Exe Time: 22.116979sec\n",
      "Epoch: 74  \tTraining Loss: 0.474430 \t Vali Loss: 0.540342 \t Exe Time: 22.400131sec\n",
      "Epoch: 75  \tTraining Loss: 0.484605 \t Vali Loss: 0.535312 \t Exe Time: 27.546172sec\n",
      "Epoch: 76  \tTraining Loss: 0.484260 \t Vali Loss: 0.570601 \t Exe Time: 23.107545sec\n",
      "Epoch: 77  \tTraining Loss: 0.473364 \t Vali Loss: 0.608712 \t Exe Time: 29.543984sec\n",
      "Epoch: 78  \tTraining Loss: 0.460824 \t Vali Loss: 0.538254 \t Exe Time: 22.397552sec\n",
      "Epoch: 79  \tTraining Loss: 0.465348 \t Vali Loss: 0.525230 \t Exe Time: 25.447155sec\n",
      "Epoch: 80  \tTraining Loss: 0.459191 \t Vali Loss: 0.508021 \t Exe Time: 27.160862sec\n",
      "Temprary model saved:  model_cyc_3_ep_200_bs_128_lr_0.001_20240124_T124950.pt\n",
      "Epoch: 81  \tTraining Loss: 0.467926 \t Vali Loss: 0.541392 \t Exe Time: 52.344667sec\n",
      "Epoch: 82  \tTraining Loss: 0.464403 \t Vali Loss: 0.551888 \t Exe Time: 25.268803sec\n",
      "Epoch: 83  \tTraining Loss: 0.458476 \t Vali Loss: 0.512746 \t Exe Time: 32.197271sec\n",
      "Epoch: 84  \tTraining Loss: 0.460213 \t Vali Loss: 0.532314 \t Exe Time: 24.501598sec\n",
      "Epoch: 85  \tTraining Loss: 0.459326 \t Vali Loss: 0.526695 \t Exe Time: 26.904997sec\n",
      "Epoch: 86  \tTraining Loss: 0.454350 \t Vali Loss: 0.536079 \t Exe Time: 24.201205sec\n",
      "Epoch: 87  \tTraining Loss: 0.452216 \t Vali Loss: 0.528209 \t Exe Time: 33.375644sec\n",
      "Epoch: 88  \tTraining Loss: 0.452312 \t Vali Loss: 0.543437 \t Exe Time: 26.132060sec\n",
      "Epoch: 89  \tTraining Loss: 0.442097 \t Vali Loss: 0.526311 \t Exe Time: 25.653020sec\n",
      "Epoch: 90  \tTraining Loss: 0.440558 \t Vali Loss: 0.484679 \t Exe Time: 33.394281sec\n"
     ]
    },
    {
     "name": "stdout",
     "output_type": "stream",
     "text": [
      "Temprary model saved:  model_cyc_3_ep_200_bs_128_lr_0.001_20240124_T125455.pt\n",
      "Epoch: 91  \tTraining Loss: 0.439910 \t Vali Loss: 0.507103 \t Exe Time: 25.167949sec\n",
      "Epoch: 92  \tTraining Loss: 0.450439 \t Vali Loss: 0.509885 \t Exe Time: 29.951655sec\n",
      "Epoch: 93  \tTraining Loss: 0.433520 \t Vali Loss: 0.492609 \t Exe Time: 29.360834sec\n",
      "Epoch: 94  \tTraining Loss: 0.443667 \t Vali Loss: 0.517246 \t Exe Time: 30.204447sec\n",
      "Epoch: 95  \tTraining Loss: 0.442240 \t Vali Loss: 0.501745 \t Exe Time: 29.341625sec\n",
      "Epoch: 96  \tTraining Loss: 0.448306 \t Vali Loss: 0.508004 \t Exe Time: 25.698683sec\n",
      "Epoch: 97  \tTraining Loss: 0.435972 \t Vali Loss: 0.484240 \t Exe Time: 25.122057sec\n",
      "Epoch: 98  \tTraining Loss: 0.452251 \t Vali Loss: 0.555018 \t Exe Time: 27.176304sec\n",
      "Epoch: 99  \tTraining Loss: 0.450115 \t Vali Loss: 0.517017 \t Exe Time: 33.225860sec\n",
      "Epoch: 100  \tTraining Loss: 0.438297 \t Vali Loss: 0.531260 \t Exe Time: 28.579547sec\n",
      "Temprary model saved:  model_cyc_3_ep_200_bs_128_lr_0.001_20240124_T125939.pt\n",
      "Epoch: 101  \tTraining Loss: 0.445787 \t Vali Loss: 0.488812 \t Exe Time: 24.243643sec\n",
      "Epoch: 102  \tTraining Loss: 0.438494 \t Vali Loss: 0.516004 \t Exe Time: 25.152920sec\n",
      "Epoch: 103  \tTraining Loss: 0.425524 \t Vali Loss: 0.498751 \t Exe Time: 24.372865sec\n",
      "Epoch: 104  \tTraining Loss: 0.435553 \t Vali Loss: 0.492954 \t Exe Time: 24.272582sec\n",
      "Epoch: 105  \tTraining Loss: 0.424910 \t Vali Loss: 0.471634 \t Exe Time: 23.905515sec\n",
      "Epoch: 106  \tTraining Loss: 0.433713 \t Vali Loss: 0.496916 \t Exe Time: 24.487064sec\n",
      "Epoch: 107  \tTraining Loss: 0.428094 \t Vali Loss: 0.502105 \t Exe Time: 37.780508sec\n",
      "Epoch: 108  \tTraining Loss: 0.433017 \t Vali Loss: 0.499189 \t Exe Time: 89.998373sec\n",
      "Epoch: 109  \tTraining Loss: 0.427163 \t Vali Loss: 0.511066 \t Exe Time: 75.469774sec\n",
      "Epoch: 110  \tTraining Loss: 0.441222 \t Vali Loss: 0.489901 \t Exe Time: 55.968298sec\n",
      "Temprary model saved:  model_cyc_3_ep_200_bs_128_lr_0.001_20240124_T130625.pt\n",
      "Epoch: 111  \tTraining Loss: 0.439293 \t Vali Loss: 0.529295 \t Exe Time: 68.108054sec\n",
      "Epoch: 112  \tTraining Loss: 0.442717 \t Vali Loss: 0.490795 \t Exe Time: 30.773246sec\n",
      "Epoch: 113  \tTraining Loss: 0.420091 \t Vali Loss: 0.481452 \t Exe Time: 30.336342sec\n",
      "Epoch: 114  \tTraining Loss: 0.420586 \t Vali Loss: 0.496461 \t Exe Time: 27.319741sec\n",
      "Epoch: 115  \tTraining Loss: 0.434952 \t Vali Loss: 0.534606 \t Exe Time: 29.839422sec\n",
      "Epoch: 116  \tTraining Loss: 0.422711 \t Vali Loss: 0.503827 \t Exe Time: 29.441507sec\n",
      "Epoch: 117  \tTraining Loss: 0.420841 \t Vali Loss: 0.498174 \t Exe Time: 26.424675sec\n",
      "Epoch: 118  \tTraining Loss: 0.409606 \t Vali Loss: 0.486240 \t Exe Time: 22.831587sec\n",
      "Epoch: 119  \tTraining Loss: 0.427295 \t Vali Loss: 0.500458 \t Exe Time: 22.611279sec\n",
      "Epoch: 120  \tTraining Loss: 0.430216 \t Vali Loss: 0.513447 \t Exe Time: 22.711724sec\n",
      "Temprary model saved:  model_cyc_3_ep_200_bs_128_lr_0.001_20240124_T131136.pt\n",
      "Epoch: 121  \tTraining Loss: 0.435618 \t Vali Loss: 0.500815 \t Exe Time: 22.864049sec\n",
      "Epoch: 122  \tTraining Loss: 0.436338 \t Vali Loss: 0.512774 \t Exe Time: 23.393988sec\n",
      "Epoch: 123  \tTraining Loss: 0.419605 \t Vali Loss: 0.479296 \t Exe Time: 22.831068sec\n",
      "Epoch: 124  \tTraining Loss: 0.418784 \t Vali Loss: 0.525222 \t Exe Time: 23.283167sec\n",
      "Epoch: 125  \tTraining Loss: 0.419709 \t Vali Loss: 0.500565 \t Exe Time: 22.755798sec\n",
      "Epoch: 126  \tTraining Loss: 0.424915 \t Vali Loss: 0.542066 \t Exe Time: 24.716604sec\n",
      "Epoch: 127  \tTraining Loss: 0.418162 \t Vali Loss: 0.482398 \t Exe Time: 23.490656sec\n",
      "Early Stopping\n",
      "Training Cycle:  2\n",
      "Epoch: 0  \tTraining Loss: 0.399692 \t Vali Loss: 0.464580 \t Exe Time: 23.734945sec\n",
      "Temprary model saved:  model_cyc_3_ep_200_bs_128_lr_0.001_20240124_T131444.pt\n",
      "Epoch: 1  \tTraining Loss: 0.408503 \t Vali Loss: 0.454221 \t Exe Time: 23.413585sec\n",
      "Epoch: 2  \tTraining Loss: 0.403297 \t Vali Loss: 0.438395 \t Exe Time: 56.062114sec\n",
      "Epoch: 3  \tTraining Loss: 0.408618 \t Vali Loss: 0.451866 \t Exe Time: 25.770411sec\n",
      "Epoch: 4  \tTraining Loss: 0.405936 \t Vali Loss: 0.444337 \t Exe Time: 30.703827sec\n",
      "Epoch: 5  \tTraining Loss: 0.388242 \t Vali Loss: 0.445263 \t Exe Time: 24.777301sec\n",
      "Epoch: 6  \tTraining Loss: 0.388857 \t Vali Loss: 0.437041 \t Exe Time: 23.744389sec\n",
      "Epoch: 7  \tTraining Loss: 0.405167 \t Vali Loss: 0.451142 \t Exe Time: 23.856520sec\n",
      "Epoch: 8  \tTraining Loss: 0.384802 \t Vali Loss: 0.465291 \t Exe Time: 30.070329sec\n",
      "Epoch: 9  \tTraining Loss: 0.395945 \t Vali Loss: 0.453618 \t Exe Time: 31.967731sec\n",
      "Epoch: 10  \tTraining Loss: 0.404844 \t Vali Loss: 0.445196 \t Exe Time: 33.373100sec\n",
      "Temprary model saved:  model_cyc_3_ep_200_bs_128_lr_0.001_20240124_T131948.pt\n",
      "Epoch: 11  \tTraining Loss: 0.387644 \t Vali Loss: 0.466265 \t Exe Time: 23.394366sec\n",
      "Epoch: 12  \tTraining Loss: 0.391190 \t Vali Loss: 0.446293 \t Exe Time: 24.683903sec\n",
      "Epoch: 13  \tTraining Loss: 0.383745 \t Vali Loss: 0.441639 \t Exe Time: 23.837128sec\n",
      "Epoch: 14  \tTraining Loss: 0.396672 \t Vali Loss: 0.444252 \t Exe Time: 23.268637sec\n",
      "Epoch: 15  \tTraining Loss: 0.397119 \t Vali Loss: 0.448968 \t Exe Time: 23.815774sec\n",
      "Epoch: 16  \tTraining Loss: 0.384188 \t Vali Loss: 0.440980 \t Exe Time: 23.658045sec\n",
      "Epoch: 17  \tTraining Loss: 0.397643 \t Vali Loss: 0.441467 \t Exe Time: 23.530513sec\n",
      "Epoch: 18  \tTraining Loss: 0.379851 \t Vali Loss: 0.442589 \t Exe Time: 25.309361sec\n",
      "Epoch: 19  \tTraining Loss: 0.380136 \t Vali Loss: 0.442786 \t Exe Time: 25.072031sec\n",
      "Epoch: 20  \tTraining Loss: 0.377653 \t Vali Loss: 0.444173 \t Exe Time: 29.897403sec\n",
      "Temprary model saved:  model_cyc_3_ep_200_bs_128_lr_0.001_20240124_T132355.pt\n",
      "Epoch: 21  \tTraining Loss: 0.389270 \t Vali Loss: 0.439801 \t Exe Time: 23.890548sec\n",
      "Epoch: 22  \tTraining Loss: 0.387695 \t Vali Loss: 0.443125 \t Exe Time: 24.865775sec\n",
      "Epoch: 23  \tTraining Loss: 0.379321 \t Vali Loss: 0.447264 \t Exe Time: 23.542908sec\n",
      "Epoch: 24  \tTraining Loss: 0.373796 \t Vali Loss: 0.453460 \t Exe Time: 28.309725sec\n",
      "Epoch: 25  \tTraining Loss: 0.392574 \t Vali Loss: 0.442575 \t Exe Time: 32.415660sec\n",
      "Epoch: 26  \tTraining Loss: 0.384452 \t Vali Loss: 0.442834 \t Exe Time: 25.550761sec\n",
      "Epoch: 27  \tTraining Loss: 0.386000 \t Vali Loss: 0.443532 \t Exe Time: 28.407548sec\n",
      "Epoch: 28  \tTraining Loss: 0.390072 \t Vali Loss: 0.433558 \t Exe Time: 27.926791sec\n",
      "Epoch: 29  \tTraining Loss: 0.386357 \t Vali Loss: 0.435671 \t Exe Time: 26.008756sec\n",
      "Epoch: 30  \tTraining Loss: 0.390971 \t Vali Loss: 0.435591 \t Exe Time: 29.393347sec\n",
      "Temprary model saved:  model_cyc_3_ep_200_bs_128_lr_0.001_20240124_T132826.pt\n",
      "Epoch: 31  \tTraining Loss: 0.388753 \t Vali Loss: 0.442902 \t Exe Time: 28.372812sec\n",
      "Epoch: 32  \tTraining Loss: 0.396477 \t Vali Loss: 0.440388 \t Exe Time: 27.496963sec\n",
      "Epoch: 33  \tTraining Loss: 0.387816 \t Vali Loss: 0.448151 \t Exe Time: 30.141181sec\n",
      "Epoch: 34  \tTraining Loss: 0.385327 \t Vali Loss: 0.434784 \t Exe Time: 47.251315sec\n",
      "Epoch: 35  \tTraining Loss: 0.383955 \t Vali Loss: 0.450354 \t Exe Time: 24.702717sec\n",
      "Epoch: 36  \tTraining Loss: 0.386335 \t Vali Loss: 0.436330 \t Exe Time: 26.508486sec\n",
      "Epoch: 37  \tTraining Loss: 0.387668 \t Vali Loss: 0.434234 \t Exe Time: 25.479960sec\n",
      "Epoch: 38  \tTraining Loss: 0.383538 \t Vali Loss: 0.424589 \t Exe Time: 25.184955sec\n",
      "Epoch: 39  \tTraining Loss: 0.385120 \t Vali Loss: 0.435780 \t Exe Time: 27.466235sec\n",
      "Epoch: 40  \tTraining Loss: 0.385793 \t Vali Loss: 0.439062 \t Exe Time: 23.724638sec\n",
      "Temprary model saved:  model_cyc_3_ep_200_bs_128_lr_0.001_20240124_T133312.pt\n",
      "Epoch: 41  \tTraining Loss: 0.378852 \t Vali Loss: 0.447455 \t Exe Time: 27.701832sec\n",
      "Epoch: 42  \tTraining Loss: 0.381770 \t Vali Loss: 0.437032 \t Exe Time: 26.866728sec\n",
      "Epoch: 43  \tTraining Loss: 0.384507 \t Vali Loss: 0.433186 \t Exe Time: 23.355628sec\n",
      "Epoch: 44  \tTraining Loss: 0.382580 \t Vali Loss: 0.434200 \t Exe Time: 23.594327sec\n",
      "Epoch: 45  \tTraining Loss: 0.382677 \t Vali Loss: 0.428866 \t Exe Time: 33.817446sec\n",
      "Epoch: 46  \tTraining Loss: 0.379405 \t Vali Loss: 0.436623 \t Exe Time: 22.897187sec\n",
      "Epoch: 47  \tTraining Loss: 0.378453 \t Vali Loss: 0.440147 \t Exe Time: 22.621233sec\n",
      "Epoch: 48  \tTraining Loss: 0.372560 \t Vali Loss: 0.443726 \t Exe Time: 22.893181sec\n",
      "Epoch: 49  \tTraining Loss: 0.388599 \t Vali Loss: 0.435644 \t Exe Time: 22.825572sec\n",
      "Epoch: 50  \tTraining Loss: 0.384979 \t Vali Loss: 0.443969 \t Exe Time: 24.851046sec\n",
      "Temprary model saved:  model_cyc_3_ep_200_bs_128_lr_0.001_20240124_T133724.pt\n",
      "Epoch: 51  \tTraining Loss: 0.379506 \t Vali Loss: 0.442219 \t Exe Time: 23.461029sec\n"
     ]
    },
    {
     "name": "stdout",
     "output_type": "stream",
     "text": [
      "Epoch: 52  \tTraining Loss: 0.377316 \t Vali Loss: 0.430585 \t Exe Time: 23.243531sec\n",
      "Epoch: 53  \tTraining Loss: 0.376935 \t Vali Loss: 0.449813 \t Exe Time: 24.501865sec\n",
      "Epoch: 54  \tTraining Loss: 0.379910 \t Vali Loss: 0.447837 \t Exe Time: 27.875115sec\n",
      "Epoch: 55  \tTraining Loss: 0.374514 \t Vali Loss: 0.452032 \t Exe Time: 26.802628sec\n",
      "Epoch: 56  \tTraining Loss: 0.371549 \t Vali Loss: 0.438699 \t Exe Time: 23.959199sec\n",
      "Epoch: 57  \tTraining Loss: 0.378419 \t Vali Loss: 0.434457 \t Exe Time: 22.986879sec\n",
      "Epoch: 58  \tTraining Loss: 0.389897 \t Vali Loss: 0.439664 \t Exe Time: 23.105057sec\n",
      "Epoch: 59  \tTraining Loss: 0.396851 \t Vali Loss: 0.444461 \t Exe Time: 22.684303sec\n",
      "Epoch: 60  \tTraining Loss: 0.385859 \t Vali Loss: 0.434608 \t Exe Time: 22.958169sec\n",
      "Temprary model saved:  model_cyc_3_ep_200_bs_128_lr_0.001_20240124_T134126.pt\n",
      "Epoch: 61  \tTraining Loss: 0.375136 \t Vali Loss: 0.449196 \t Exe Time: 22.671270sec\n",
      "Epoch: 62  \tTraining Loss: 0.381230 \t Vali Loss: 0.439453 \t Exe Time: 22.595728sec\n",
      "Epoch: 63  \tTraining Loss: 0.383980 \t Vali Loss: 0.433759 \t Exe Time: 23.058855sec\n",
      "Epoch: 64  \tTraining Loss: 0.375856 \t Vali Loss: 0.451952 \t Exe Time: 22.980874sec\n",
      "Early Stopping\n",
      "Training Cycle:  3\n",
      "Epoch: 0  \tTraining Loss: 0.369109 \t Vali Loss: 0.441714 \t Exe Time: 27.076687sec\n",
      "Temprary model saved:  model_cyc_3_ep_200_bs_128_lr_0.001_20240124_T134325.pt\n",
      "Epoch: 1  \tTraining Loss: 0.376528 \t Vali Loss: 0.439511 \t Exe Time: 25.844566sec\n",
      "Epoch: 2  \tTraining Loss: 0.368888 \t Vali Loss: 0.430077 \t Exe Time: 26.709603sec\n",
      "Epoch: 3  \tTraining Loss: 0.377657 \t Vali Loss: 0.436885 \t Exe Time: 26.866125sec\n",
      "Epoch: 4  \tTraining Loss: 0.388932 \t Vali Loss: 0.436816 \t Exe Time: 25.150629sec\n",
      "Epoch: 5  \tTraining Loss: 0.378019 \t Vali Loss: 0.437601 \t Exe Time: 24.071547sec\n",
      "Epoch: 6  \tTraining Loss: 0.389656 \t Vali Loss: 0.434039 \t Exe Time: 24.088916sec\n",
      "Epoch: 7  \tTraining Loss: 0.366183 \t Vali Loss: 0.437716 \t Exe Time: 25.421470sec\n",
      "Epoch: 8  \tTraining Loss: 0.373005 \t Vali Loss: 0.429002 \t Exe Time: 24.470086sec\n",
      "Epoch: 9  \tTraining Loss: 0.373651 \t Vali Loss: 0.434189 \t Exe Time: 23.692888sec\n",
      "Epoch: 10  \tTraining Loss: 0.371135 \t Vali Loss: 0.437053 \t Exe Time: 27.326535sec\n",
      "Temprary model saved:  model_cyc_3_ep_200_bs_128_lr_0.001_20240124_T134739.pt\n",
      "Epoch: 11  \tTraining Loss: 0.386948 \t Vali Loss: 0.439743 \t Exe Time: 26.415653sec\n",
      "Epoch: 12  \tTraining Loss: 0.376872 \t Vali Loss: 0.431795 \t Exe Time: 27.177029sec\n",
      "Epoch: 13  \tTraining Loss: 0.371981 \t Vali Loss: 0.433997 \t Exe Time: 31.988528sec\n",
      "Epoch: 14  \tTraining Loss: 0.375966 \t Vali Loss: 0.431121 \t Exe Time: 26.993104sec\n",
      "Epoch: 15  \tTraining Loss: 0.383041 \t Vali Loss: 0.440347 \t Exe Time: 23.761533sec\n",
      "Epoch: 16  \tTraining Loss: 0.373362 \t Vali Loss: 0.424854 \t Exe Time: 23.456931sec\n",
      "Epoch: 17  \tTraining Loss: 0.375843 \t Vali Loss: 0.433803 \t Exe Time: 23.647826sec\n",
      "Epoch: 18  \tTraining Loss: 0.379869 \t Vali Loss: 0.431468 \t Exe Time: 23.566317sec\n",
      "Epoch: 19  \tTraining Loss: 0.377289 \t Vali Loss: 0.436413 \t Exe Time: 23.751865sec\n",
      "Epoch: 20  \tTraining Loss: 0.378603 \t Vali Loss: 0.436063 \t Exe Time: 24.346345sec\n",
      "Temprary model saved:  model_cyc_3_ep_200_bs_128_lr_0.001_20240124_T135155.pt\n",
      "Epoch: 21  \tTraining Loss: 0.386937 \t Vali Loss: 0.441153 \t Exe Time: 24.769536sec\n",
      "Epoch: 22  \tTraining Loss: 0.376428 \t Vali Loss: 0.431331 \t Exe Time: 25.436308sec\n",
      "Epoch: 23  \tTraining Loss: 0.373334 \t Vali Loss: 0.435797 \t Exe Time: 23.482797sec\n",
      "Epoch: 24  \tTraining Loss: 0.373145 \t Vali Loss: 0.435764 \t Exe Time: 22.719808sec\n",
      "Epoch: 25  \tTraining Loss: 0.374272 \t Vali Loss: 0.435408 \t Exe Time: 22.822329sec\n",
      "Epoch: 26  \tTraining Loss: 0.369907 \t Vali Loss: 0.422396 \t Exe Time: 23.358882sec\n",
      "Epoch: 27  \tTraining Loss: 0.365230 \t Vali Loss: 0.434641 \t Exe Time: 23.027101sec\n",
      "Epoch: 28  \tTraining Loss: 0.379668 \t Vali Loss: 0.436807 \t Exe Time: 23.104743sec\n",
      "Epoch: 29  \tTraining Loss: 0.380850 \t Vali Loss: 0.435609 \t Exe Time: 23.772458sec\n",
      "Epoch: 30  \tTraining Loss: 0.364266 \t Vali Loss: 0.430936 \t Exe Time: 23.981995sec\n",
      "Temprary model saved:  model_cyc_3_ep_200_bs_128_lr_0.001_20240124_T135552.pt\n",
      "Epoch: 31  \tTraining Loss: 0.371592 \t Vali Loss: 0.443916 \t Exe Time: 24.452597sec\n",
      "Epoch: 32  \tTraining Loss: 0.380614 \t Vali Loss: 0.434576 \t Exe Time: 26.267237sec\n",
      "Epoch: 33  \tTraining Loss: 0.373726 \t Vali Loss: 0.428317 \t Exe Time: 27.215314sec\n",
      "Epoch: 34  \tTraining Loss: 0.380934 \t Vali Loss: 0.430645 \t Exe Time: 24.550802sec\n",
      "Epoch: 35  \tTraining Loss: 0.378401 \t Vali Loss: 0.433299 \t Exe Time: 28.203900sec\n",
      "Epoch: 36  \tTraining Loss: 0.371255 \t Vali Loss: 0.453380 \t Exe Time: 28.256328sec\n",
      "Epoch: 37  \tTraining Loss: 0.370870 \t Vali Loss: 0.435299 \t Exe Time: 26.749354sec\n",
      "Epoch: 38  \tTraining Loss: 0.384623 \t Vali Loss: 0.438159 \t Exe Time: 23.757046sec\n",
      "Epoch: 39  \tTraining Loss: 0.367780 \t Vali Loss: 0.430590 \t Exe Time: 24.449470sec\n",
      "Epoch: 40  \tTraining Loss: 0.377077 \t Vali Loss: 0.432940 \t Exe Time: 23.523808sec\n",
      "Temprary model saved:  model_cyc_3_ep_200_bs_128_lr_0.001_20240124_T140010.pt\n",
      "Epoch: 41  \tTraining Loss: 0.380130 \t Vali Loss: 0.433673 \t Exe Time: 23.938607sec\n",
      "Epoch: 42  \tTraining Loss: 0.383210 \t Vali Loss: 0.434027 \t Exe Time: 24.278203sec\n",
      "Epoch: 43  \tTraining Loss: 0.377288 \t Vali Loss: 0.447016 \t Exe Time: 55.985028sec\n",
      "Epoch: 44  \tTraining Loss: 0.378957 \t Vali Loss: 0.428709 \t Exe Time: 30.379996sec\n",
      "Epoch: 45  \tTraining Loss: 0.369497 \t Vali Loss: 0.436980 \t Exe Time: 32.536775sec\n",
      "Epoch: 46  \tTraining Loss: 0.374512 \t Vali Loss: 0.432966 \t Exe Time: 29.068962sec\n",
      "Epoch: 47  \tTraining Loss: 0.366922 \t Vali Loss: 0.442901 \t Exe Time: 28.477530sec\n",
      "Epoch: 48  \tTraining Loss: 0.367188 \t Vali Loss: 0.430612 \t Exe Time: 75.076254sec\n",
      "Epoch: 49  \tTraining Loss: 0.383261 \t Vali Loss: 0.435120 \t Exe Time: 27.289906sec\n",
      "Epoch: 50  \tTraining Loss: 0.367783 \t Vali Loss: 0.435525 \t Exe Time: 30.795173sec\n",
      "Temprary model saved:  model_cyc_3_ep_200_bs_128_lr_0.001_20240124_T140608.pt\n",
      "Epoch: 51  \tTraining Loss: 0.370469 \t Vali Loss: 0.437230 \t Exe Time: 23.638309sec\n",
      "Epoch: 52  \tTraining Loss: 0.362431 \t Vali Loss: 0.427486 \t Exe Time: 27.089994sec\n",
      "Epoch: 53  \tTraining Loss: 0.376175 \t Vali Loss: 0.441281 \t Exe Time: 45.920382sec\n",
      "Early Stopping\n"
     ]
    }
   ],
   "source": [
    "for j in range(cycles):\n",
    "        \n",
    "    print(\"Training Cycle: \", j+1)\n",
    "\n",
    "#     optimizer = torch.optim.Adam([{\"params\":encoder_list, \"lr\":encoder_lr},\n",
    "#                                   {\"params\":decoder_list, \"lr\":decoder_lr}\n",
    "#                                  ])\n",
    "\n",
    "    optimizer = torch.optim.Adam(model.parameters(), lr = encoder_lr)\n",
    "    \n",
    "    early_stopping = th.EarlyStopping(patience = 20, min_delta = 0.01)\n",
    "\n",
    "    for epoch in range(epochs): \n",
    "        train_loss = 0.0\n",
    "        val_loss = 0.0\n",
    "\n",
    "        start_time = time.time() \n",
    "        \n",
    "        model.train()\n",
    "        for data in train_loader: \n",
    "            images, labels, hub_labels = data \n",
    "            images = images.to(device)\n",
    "            labels = labels.to(device)\n",
    "            hub_labels= hub_labels.to(device)\n",
    "\n",
    "            optimizer.zero_grad()\n",
    "            output1, output2 = model(images)\n",
    "\n",
    "            loss1 = lossFun1.forward(output1, labels)\n",
    "            loss2 = lossFun2.forward(output2, hub_labels)\n",
    "            \n",
    "            loss = 0.5 * loss1 + 0.5 * loss2 \n",
    "            loss.backward()\n",
    "            optimizer.step()\n",
    "            train_loss += loss.item()\n",
    "\n",
    "        model.eval() \n",
    "        for data in val_loader: \n",
    "\n",
    "            \n",
    "            images, labels, hub_labels = data \n",
    "            images = images.to(device)\n",
    "            labels= labels.to(device)\n",
    "            hub_labels= hub_labels.to(device)\n",
    "            \n",
    "            \n",
    "            with torch.no_grad(): \n",
    "                output1, output2 = model(images)\n",
    "                loss1 = lossFun1.forward(output1, labels)\n",
    "                loss2 = lossFun2.forward(output2, hub_labels)\n",
    "                \n",
    "                loss = 0.5 * loss1 + 0.5 * loss2 \n",
    "                \n",
    "            val_loss += loss.item()\n",
    "\n",
    "        train_loss = train_loss/len(train_loader)    \n",
    "        val_loss = val_loss/len(val_loader)\n",
    "\n",
    "        print('Epoch: {}  \\tTraining Loss: {:.6f} \\t Vali Loss: {:.6f} \\t Exe Time: {:.6f}sec'.format(\n",
    "        epoch, \n",
    "        train_loss, \n",
    "        val_loss,\n",
    "        time.time() - start_time))\n",
    "\n",
    "        stop = early_stopping.early_stop(val_loss, model)\n",
    "        if stop: \n",
    "            model = early_stopping.get_model() \n",
    "            print(\"Early Stopping\")\n",
    "            encoder_lr /= 10\n",
    "            decoder_lr /= 10\n",
    "            break \n",
    "\n",
    "        if epoch % 10 == 0: \n",
    "\n",
    "            model_script = torch.jit.script(model)\n",
    "            temp_name = model_name + \"_{:%Y%m%d_T%H%M%S}\".format(datetime.datetime.now()) + \".pt\"\n",
    "            model_script.save(observe_path + \"/\"  + model_folder + \"/\" + temp_name)\n",
    "            print(\"Temprary model saved: \", temp_name)"
   ]
  },
  {
   "cell_type": "code",
   "execution_count": 11,
   "id": "c899c710",
   "metadata": {},
   "outputs": [
    {
     "name": "stdout",
     "output_type": "stream",
     "text": [
      "Saved trained model:  model_cyc_3_ep_200_bs_128_lr_0.001_20240124_T140745.pt\n"
     ]
    }
   ],
   "source": [
    "model_script = torch.jit.script(model)\n",
    "final_model = model_name + \"_{:%Y%m%d_T%H%M%S}\".format(datetime.datetime.now())\n",
    "if fineTune: \n",
    "    final_model += \"finetuned.pt\"\n",
    "else: \n",
    "    final_model += \".pt\"\n",
    "\n",
    "model_script.save(\"//cgmqnap.clearguide.local/data/Needles/Lumena\" + \"/models/shaft_segmentation/\" + final_model)\n",
    "print(\"Saved trained model: \", final_model)"
   ]
  },
  {
   "cell_type": "code",
   "execution_count": null,
   "id": "9c6e8e4c",
   "metadata": {},
   "outputs": [],
   "source": []
  },
  {
   "cell_type": "code",
   "execution_count": null,
   "id": "7dd9609d",
   "metadata": {},
   "outputs": [],
   "source": []
  },
  {
   "cell_type": "markdown",
   "id": "67b7ebb5",
   "metadata": {},
   "source": [
    "### Test"
   ]
  },
  {
   "cell_type": "code",
   "execution_count": 12,
   "id": "473eda5c",
   "metadata": {},
   "outputs": [],
   "source": [
    "data = iter(train_loader)\n",
    "images, labels, hub_labels = next(data) \n",
    "images = images.to(device)\n",
    "labels = labels.to(device)\n",
    "hub_labels= hub_labels.to(device)\n",
    "\n",
    "output1, output2 = model(images)"
   ]
  },
  {
   "cell_type": "code",
   "execution_count": 13,
   "id": "4e5bf66b",
   "metadata": {},
   "outputs": [],
   "source": [
    "hub_labels = np.transpose(hub_labels.detach().cpu().numpy()[0],(1,2,0))"
   ]
  },
  {
   "cell_type": "code",
   "execution_count": 14,
   "id": "20cd8f16",
   "metadata": {},
   "outputs": [
    {
     "data": {
      "text/plain": [
       "<matplotlib.image.AxesImage at 0x26113f6fe80>"
      ]
     },
     "execution_count": 14,
     "metadata": {},
     "output_type": "execute_result"
    },
    {
     "data": {
      "image/png": "[encoded data removed]",
      "text/plain": [
       "<Figure size 640x480 with 1 Axes>"
      ]
     },
     "metadata": {},
     "output_type": "display_data"
    }
   ],
   "source": [
    "plt.imshow(hub_labels)"
   ]
  },
  {
   "cell_type": "code",
   "execution_count": 15,
   "id": "aad3bafc",
   "metadata": {},
   "outputs": [
    {
     "data": {
      "text/plain": [
       "<matplotlib.image.AxesImage at 0x2610e740730>"
      ]
     },
     "execution_count": 15,
     "metadata": {},
     "output_type": "execute_result"
    },
    {
     "data": {
      "image/png": "[encoded data removed]",
      "text/plain": [
       "<Figure size 640x480 with 1 Axes>"
      ]
     },
     "metadata": {},
     "output_type": "display_data"
    }
   ],
   "source": [
    "labels = np.transpose(labels.detach().cpu().numpy()[0],(1,2,0))\n",
    "plt.imshow(labels)"
   ]
  },
  {
   "cell_type": "code",
   "execution_count": 16,
   "id": "964ee25b",
   "metadata": {},
   "outputs": [
    {
     "data": {
      "text/plain": [
       "torch.Size([128, 1, 256, 256])"
      ]
     },
     "execution_count": 16,
     "metadata": {},
     "output_type": "execute_result"
    }
   ],
   "source": [
    "output1.size()\n"
   ]
  },
  {
   "cell_type": "code",
   "execution_count": 17,
   "id": "9000dfde",
   "metadata": {},
   "outputs": [],
   "source": [
    "output = np.transpose(output1.detach().cpu().numpy()[0],(1,2,0))"
   ]
  },
  {
   "cell_type": "code",
   "execution_count": 18,
   "id": "4263b311",
   "metadata": {},
   "outputs": [
    {
     "data": {
      "text/plain": [
       "(256, 256, 1)"
      ]
     },
     "execution_count": 18,
     "metadata": {},
     "output_type": "execute_result"
    }
   ],
   "source": [
    "np.shape(output)"
   ]
  },
  {
   "cell_type": "code",
   "execution_count": 19,
   "id": "9d7abbfb",
   "metadata": {},
   "outputs": [
    {
     "data": {
      "text/plain": [
       "<matplotlib.image.AxesImage at 0x261332c8af0>"
      ]
     },
     "execution_count": 19,
     "metadata": {},
     "output_type": "execute_result"
    },
    {
     "data": {
      "image/png": "[encoded data removed]",
      "text/plain": [
       "<Figure size 640x480 with 1 Axes>"
      ]
     },
     "metadata": {},
     "output_type": "display_data"
    }
   ],
   "source": [
    "plt.imshow(output)"
   ]
  },
  {
   "cell_type": "code",
   "execution_count": 20,
   "id": "ba32937e",
   "metadata": {},
   "outputs": [
    {
     "data": {
      "text/plain": [
       "<matplotlib.image.AxesImage at 0x2615d425c30>"
      ]
     },
     "execution_count": 20,
     "metadata": {},
     "output_type": "execute_result"
    },
    {
     "data": {
      "image/png": "[encoded data removed]",
      "text/plain": [
       "<Figure size 640x480 with 1 Axes>"
      ]
     },
     "metadata": {},
     "output_type": "display_data"
    }
   ],
   "source": [
    "output2 = np.transpose(output2.detach().cpu().numpy()[0],(1,2,0))\n",
    "plt.imshow(output2)"
   ]
  },
  {
   "cell_type": "code",
   "execution_count": null,
   "id": "7ac0eed8",
   "metadata": {},
   "outputs": [],
   "source": []
  }
 ],
 "metadata": {
  "kernelspec": {
   "display_name": "Python 3 (ipykernel)",
   "language": "python",
   "name": "python3"
  },
  "language_info": {
   "codemirror_mode": {
    "name": "ipython",
    "version": 3
   },
   "file_extension": ".py",
   "mimetype": "text/x-python",
   "name": "python",
   "nbconvert_exporter": "python",
   "pygments_lexer": "ipython3",
   "version": "3.10.9"
  }
 },
 "nbformat": 4,
 "nbformat_minor": 5
}
